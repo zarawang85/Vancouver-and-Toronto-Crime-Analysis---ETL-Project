{
 "cells": [
  {
   "cell_type": "code",
   "execution_count": 31,
   "metadata": {
    "colab": {},
    "colab_type": "code",
    "id": "K8hz138rViQU"
   },
   "outputs": [],
   "source": [
    "import pandas as pd\n",
    "import datetime\n",
    "import numpy as np\n",
    "from sqlalchemy import create_engine\n",
    "import numpy as np\n",
    "import matplotlib.pyplot as plt\n",
    "from config import pw\n",
    "# from sqlalchemy import "
   ]
  },
  {
   "cell_type": "code",
   "execution_count": 2,
   "metadata": {
    "colab": {},
    "colab_type": "code",
    "id": "J0j8duRSYVTW"
   },
   "outputs": [],
   "source": [
    "url = \"https://raw.githubusercontent.com/ahyds/ETL_project/master/Resources/Van-data%202014-2018.csv\"\n",
    "van_data = pd.read_csv(url)"
   ]
  },
  {
   "cell_type": "code",
   "execution_count": 3,
   "metadata": {
    "colab": {
     "base_uri": "https://localhost:8080/",
     "height": 195
    },
    "colab_type": "code",
    "id": "kbohQBM9a1MM",
    "outputId": "ad974a4b-8d5a-4a01-c80c-bfecbaf19332"
   },
   "outputs": [
    {
     "data": {
      "text/html": [
       "<div>\n",
       "<style scoped>\n",
       "    .dataframe tbody tr th:only-of-type {\n",
       "        vertical-align: middle;\n",
       "    }\n",
       "\n",
       "    .dataframe tbody tr th {\n",
       "        vertical-align: top;\n",
       "    }\n",
       "\n",
       "    .dataframe thead th {\n",
       "        text-align: right;\n",
       "    }\n",
       "</style>\n",
       "<table border=\"1\" class=\"dataframe\">\n",
       "  <thead>\n",
       "    <tr style=\"text-align: right;\">\n",
       "      <th></th>\n",
       "      <th>TYPE</th>\n",
       "      <th>YEAR</th>\n",
       "      <th>MONTH</th>\n",
       "      <th>DAY</th>\n",
       "      <th>HOUR</th>\n",
       "      <th>MINUTE</th>\n",
       "      <th>HUNDRED_BLOCK</th>\n",
       "      <th>NEIGHBOURHOOD</th>\n",
       "      <th>X</th>\n",
       "      <th>Y</th>\n",
       "    </tr>\n",
       "  </thead>\n",
       "  <tbody>\n",
       "    <tr>\n",
       "      <th>0</th>\n",
       "      <td>Mischief</td>\n",
       "      <td>2014</td>\n",
       "      <td>11</td>\n",
       "      <td>15</td>\n",
       "      <td>1.0</td>\n",
       "      <td>13.0</td>\n",
       "      <td>21XX MAIN ST</td>\n",
       "      <td>Mount Pleasant</td>\n",
       "      <td>492656.74</td>\n",
       "      <td>5457064.58</td>\n",
       "    </tr>\n",
       "    <tr>\n",
       "      <th>1</th>\n",
       "      <td>Mischief</td>\n",
       "      <td>2014</td>\n",
       "      <td>10</td>\n",
       "      <td>30</td>\n",
       "      <td>20.0</td>\n",
       "      <td>40.0</td>\n",
       "      <td>21XX MAIN ST</td>\n",
       "      <td>Mount Pleasant</td>\n",
       "      <td>492674.67</td>\n",
       "      <td>5457023.50</td>\n",
       "    </tr>\n",
       "    <tr>\n",
       "      <th>2</th>\n",
       "      <td>Theft from Vehicle</td>\n",
       "      <td>2014</td>\n",
       "      <td>3</td>\n",
       "      <td>7</td>\n",
       "      <td>12.0</td>\n",
       "      <td>0.0</td>\n",
       "      <td>3XX E 19TH AVE</td>\n",
       "      <td>Riley Park</td>\n",
       "      <td>492836.77</td>\n",
       "      <td>5455675.23</td>\n",
       "    </tr>\n",
       "    <tr>\n",
       "      <th>3</th>\n",
       "      <td>Break and Enter Residential/Other</td>\n",
       "      <td>2014</td>\n",
       "      <td>4</td>\n",
       "      <td>7</td>\n",
       "      <td>10.0</td>\n",
       "      <td>43.0</td>\n",
       "      <td>45XX NANAIMO ST</td>\n",
       "      <td>Kensington-Cedar Cottage</td>\n",
       "      <td>495871.83</td>\n",
       "      <td>5454606.75</td>\n",
       "    </tr>\n",
       "    <tr>\n",
       "      <th>4</th>\n",
       "      <td>Mischief</td>\n",
       "      <td>2014</td>\n",
       "      <td>12</td>\n",
       "      <td>15</td>\n",
       "      <td>0.0</td>\n",
       "      <td>0.0</td>\n",
       "      <td>21XX MAIN ST</td>\n",
       "      <td>Mount Pleasant</td>\n",
       "      <td>492675.64</td>\n",
       "      <td>5457056.73</td>\n",
       "    </tr>\n",
       "  </tbody>\n",
       "</table>\n",
       "</div>"
      ],
      "text/plain": [
       "                                TYPE  YEAR  MONTH  DAY  HOUR  MINUTE  \\\n",
       "0                           Mischief  2014     11   15   1.0    13.0   \n",
       "1                           Mischief  2014     10   30  20.0    40.0   \n",
       "2                 Theft from Vehicle  2014      3    7  12.0     0.0   \n",
       "3  Break and Enter Residential/Other  2014      4    7  10.0    43.0   \n",
       "4                           Mischief  2014     12   15   0.0     0.0   \n",
       "\n",
       "     HUNDRED_BLOCK             NEIGHBOURHOOD          X           Y  \n",
       "0     21XX MAIN ST            Mount Pleasant  492656.74  5457064.58  \n",
       "1     21XX MAIN ST            Mount Pleasant  492674.67  5457023.50  \n",
       "2   3XX E 19TH AVE                Riley Park  492836.77  5455675.23  \n",
       "3  45XX NANAIMO ST  Kensington-Cedar Cottage  495871.83  5454606.75  \n",
       "4     21XX MAIN ST            Mount Pleasant  492675.64  5457056.73  "
      ]
     },
     "execution_count": 3,
     "metadata": {},
     "output_type": "execute_result"
    }
   ],
   "source": [
    "van_data.head()"
   ]
  },
  {
   "cell_type": "code",
   "execution_count": 4,
   "metadata": {
    "colab": {
     "base_uri": "https://localhost:8080/",
     "height": 343
    },
    "colab_type": "code",
    "id": "JqbcsYQMbs3p",
    "outputId": "8605581b-6ae6-47c7-ab33-bff754cbe454"
   },
   "outputs": [
    {
     "data": {
      "text/html": [
       "<div>\n",
       "<style scoped>\n",
       "    .dataframe tbody tr th:only-of-type {\n",
       "        vertical-align: middle;\n",
       "    }\n",
       "\n",
       "    .dataframe tbody tr th {\n",
       "        vertical-align: top;\n",
       "    }\n",
       "\n",
       "    .dataframe thead th {\n",
       "        text-align: right;\n",
       "    }\n",
       "</style>\n",
       "<table border=\"1\" class=\"dataframe\">\n",
       "  <thead>\n",
       "    <tr style=\"text-align: right;\">\n",
       "      <th></th>\n",
       "      <th>TYPE</th>\n",
       "      <th>YEAR</th>\n",
       "      <th>MONTH</th>\n",
       "      <th>HOUR</th>\n",
       "    </tr>\n",
       "  </thead>\n",
       "  <tbody>\n",
       "    <tr>\n",
       "      <th>0</th>\n",
       "      <td>Mischief</td>\n",
       "      <td>2014</td>\n",
       "      <td>11</td>\n",
       "      <td>1.0</td>\n",
       "    </tr>\n",
       "    <tr>\n",
       "      <th>1</th>\n",
       "      <td>Mischief</td>\n",
       "      <td>2014</td>\n",
       "      <td>10</td>\n",
       "      <td>20.0</td>\n",
       "    </tr>\n",
       "    <tr>\n",
       "      <th>2</th>\n",
       "      <td>Theft from Vehicle</td>\n",
       "      <td>2014</td>\n",
       "      <td>3</td>\n",
       "      <td>12.0</td>\n",
       "    </tr>\n",
       "    <tr>\n",
       "      <th>3</th>\n",
       "      <td>Break and Enter Residential/Other</td>\n",
       "      <td>2014</td>\n",
       "      <td>4</td>\n",
       "      <td>10.0</td>\n",
       "    </tr>\n",
       "    <tr>\n",
       "      <th>4</th>\n",
       "      <td>Mischief</td>\n",
       "      <td>2014</td>\n",
       "      <td>12</td>\n",
       "      <td>0.0</td>\n",
       "    </tr>\n",
       "    <tr>\n",
       "      <th>5</th>\n",
       "      <td>Theft from Vehicle</td>\n",
       "      <td>2014</td>\n",
       "      <td>12</td>\n",
       "      <td>1.0</td>\n",
       "    </tr>\n",
       "    <tr>\n",
       "      <th>6</th>\n",
       "      <td>Break and Enter Commercial</td>\n",
       "      <td>2014</td>\n",
       "      <td>8</td>\n",
       "      <td>10.0</td>\n",
       "    </tr>\n",
       "    <tr>\n",
       "      <th>7</th>\n",
       "      <td>Offence Against a Person</td>\n",
       "      <td>2014</td>\n",
       "      <td>11</td>\n",
       "      <td>NaN</td>\n",
       "    </tr>\n",
       "    <tr>\n",
       "      <th>8</th>\n",
       "      <td>Theft from Vehicle</td>\n",
       "      <td>2014</td>\n",
       "      <td>7</td>\n",
       "      <td>21.0</td>\n",
       "    </tr>\n",
       "    <tr>\n",
       "      <th>9</th>\n",
       "      <td>Break and Enter Residential/Other</td>\n",
       "      <td>2014</td>\n",
       "      <td>12</td>\n",
       "      <td>2.0</td>\n",
       "    </tr>\n",
       "  </tbody>\n",
       "</table>\n",
       "</div>"
      ],
      "text/plain": [
       "                                TYPE  YEAR  MONTH  HOUR\n",
       "0                           Mischief  2014     11   1.0\n",
       "1                           Mischief  2014     10  20.0\n",
       "2                 Theft from Vehicle  2014      3  12.0\n",
       "3  Break and Enter Residential/Other  2014      4  10.0\n",
       "4                           Mischief  2014     12   0.0\n",
       "5                 Theft from Vehicle  2014     12   1.0\n",
       "6         Break and Enter Commercial  2014      8  10.0\n",
       "7           Offence Against a Person  2014     11   NaN\n",
       "8                 Theft from Vehicle  2014      7  21.0\n",
       "9  Break and Enter Residential/Other  2014     12   2.0"
      ]
     },
     "execution_count": 4,
     "metadata": {},
     "output_type": "execute_result"
    }
   ],
   "source": [
    "new_van_data = van_data[['TYPE', 'YEAR', 'MONTH','HOUR']].copy()\n",
    "new_van_data.head(10)"
   ]
  },
  {
   "cell_type": "code",
   "execution_count": 5,
   "metadata": {
    "colab": {},
    "colab_type": "code",
    "id": "XbcjaJcHdPk4"
   },
   "outputs": [],
   "source": [
    "new_van_data['TYPE'] = new_van_data['TYPE'].replace({'Theft from Vehicle':'Other Theft','Mischief':'Assault','Break and Enter Residential/Other':'Break and Enter','Theft of Bicycle':'Other Theft',\n",
    "                                                     'Break and Enter Commercial':'Break and Enter','Vehicle Collision or Pedestrian Struck (with Injury)':'Traffic','Theft of Vehicle':'Auto Theft',\n",
    "                                                     'Vehicle Collision or Pedestrian Struck (with Fatality)':'Traffic','Offence Against a Person':'Assault'})"
   ]
  },
  {
   "cell_type": "code",
   "execution_count": 6,
   "metadata": {},
   "outputs": [
    {
     "data": {
      "text/plain": [
       "TYPE      object\n",
       "YEAR       int64\n",
       "MONTH      int64\n",
       "HOUR     float64\n",
       "dtype: object"
      ]
     },
     "execution_count": 6,
     "metadata": {},
     "output_type": "execute_result"
    }
   ],
   "source": [
    "new_van_data.dtypes"
   ]
  },
  {
   "cell_type": "code",
   "execution_count": 7,
   "metadata": {
    "colab": {},
    "colab_type": "code",
    "id": "7lr9Ab4bmRXD"
   },
   "outputs": [
    {
     "data": {
      "text/html": [
       "<div>\n",
       "<style scoped>\n",
       "    .dataframe tbody tr th:only-of-type {\n",
       "        vertical-align: middle;\n",
       "    }\n",
       "\n",
       "    .dataframe tbody tr th {\n",
       "        vertical-align: top;\n",
       "    }\n",
       "\n",
       "    .dataframe thead th {\n",
       "        text-align: right;\n",
       "    }\n",
       "</style>\n",
       "<table border=\"1\" class=\"dataframe\">\n",
       "  <thead>\n",
       "    <tr style=\"text-align: right;\">\n",
       "      <th></th>\n",
       "      <th>TYPE</th>\n",
       "      <th>YEAR</th>\n",
       "      <th>MONTH</th>\n",
       "      <th>HOUR</th>\n",
       "      <th>TIME</th>\n",
       "    </tr>\n",
       "  </thead>\n",
       "  <tbody>\n",
       "    <tr>\n",
       "      <th>0</th>\n",
       "      <td>Assault</td>\n",
       "      <td>2014</td>\n",
       "      <td>11</td>\n",
       "      <td>1.0</td>\n",
       "      <td>NIGHT</td>\n",
       "    </tr>\n",
       "    <tr>\n",
       "      <th>1</th>\n",
       "      <td>Assault</td>\n",
       "      <td>2014</td>\n",
       "      <td>10</td>\n",
       "      <td>20.0</td>\n",
       "      <td>NIGHT</td>\n",
       "    </tr>\n",
       "    <tr>\n",
       "      <th>2</th>\n",
       "      <td>Other Theft</td>\n",
       "      <td>2014</td>\n",
       "      <td>3</td>\n",
       "      <td>12.0</td>\n",
       "      <td>DAY</td>\n",
       "    </tr>\n",
       "    <tr>\n",
       "      <th>3</th>\n",
       "      <td>Break and Enter</td>\n",
       "      <td>2014</td>\n",
       "      <td>4</td>\n",
       "      <td>10.0</td>\n",
       "      <td>DAY</td>\n",
       "    </tr>\n",
       "    <tr>\n",
       "      <th>4</th>\n",
       "      <td>Assault</td>\n",
       "      <td>2014</td>\n",
       "      <td>12</td>\n",
       "      <td>0.0</td>\n",
       "      <td>NIGHT</td>\n",
       "    </tr>\n",
       "    <tr>\n",
       "      <th>5</th>\n",
       "      <td>Other Theft</td>\n",
       "      <td>2014</td>\n",
       "      <td>12</td>\n",
       "      <td>1.0</td>\n",
       "      <td>NIGHT</td>\n",
       "    </tr>\n",
       "    <tr>\n",
       "      <th>6</th>\n",
       "      <td>Break and Enter</td>\n",
       "      <td>2014</td>\n",
       "      <td>8</td>\n",
       "      <td>10.0</td>\n",
       "      <td>DAY</td>\n",
       "    </tr>\n",
       "    <tr>\n",
       "      <th>7</th>\n",
       "      <td>Assault</td>\n",
       "      <td>2014</td>\n",
       "      <td>11</td>\n",
       "      <td>NaN</td>\n",
       "      <td>NaN</td>\n",
       "    </tr>\n",
       "    <tr>\n",
       "      <th>8</th>\n",
       "      <td>Other Theft</td>\n",
       "      <td>2014</td>\n",
       "      <td>7</td>\n",
       "      <td>21.0</td>\n",
       "      <td>NIGHT</td>\n",
       "    </tr>\n",
       "    <tr>\n",
       "      <th>9</th>\n",
       "      <td>Break and Enter</td>\n",
       "      <td>2014</td>\n",
       "      <td>12</td>\n",
       "      <td>2.0</td>\n",
       "      <td>NIGHT</td>\n",
       "    </tr>\n",
       "  </tbody>\n",
       "</table>\n",
       "</div>"
      ],
      "text/plain": [
       "              TYPE  YEAR  MONTH  HOUR   TIME\n",
       "0          Assault  2014     11   1.0  NIGHT\n",
       "1          Assault  2014     10  20.0  NIGHT\n",
       "2      Other Theft  2014      3  12.0    DAY\n",
       "3  Break and Enter  2014      4  10.0    DAY\n",
       "4          Assault  2014     12   0.0  NIGHT\n",
       "5      Other Theft  2014     12   1.0  NIGHT\n",
       "6  Break and Enter  2014      8  10.0    DAY\n",
       "7          Assault  2014     11   NaN    NaN\n",
       "8      Other Theft  2014      7  21.0  NIGHT\n",
       "9  Break and Enter  2014     12   2.0  NIGHT"
      ]
     },
     "execution_count": 7,
     "metadata": {},
     "output_type": "execute_result"
    }
   ],
   "source": [
    "#new_van_data.loc[(new_van_data['HOUR'] == 'NaN') , \"TIME\"] = 'NaN'\n",
    "new_van_data.loc[(new_van_data['HOUR'] >= 6) & (new_van_data['HOUR'] < 18), \"TIME\"] = 'DAY'\n",
    "new_van_data.loc[(new_van_data['HOUR'] >= 18) | (new_van_data['HOUR'] < 6), \"TIME\"] = 'NIGHT'\n",
    "\n",
    "new_van_data.head(10)"
   ]
  },
  {
   "cell_type": "code",
   "execution_count": 8,
   "metadata": {
    "colab": {},
    "colab_type": "code",
    "id": "3Ew5d_8IdPcO"
   },
   "outputs": [
    {
     "data": {
      "text/html": [
       "<div>\n",
       "<style scoped>\n",
       "    .dataframe tbody tr th:only-of-type {\n",
       "        vertical-align: middle;\n",
       "    }\n",
       "\n",
       "    .dataframe tbody tr th {\n",
       "        vertical-align: top;\n",
       "    }\n",
       "\n",
       "    .dataframe thead th {\n",
       "        text-align: right;\n",
       "    }\n",
       "</style>\n",
       "<table border=\"1\" class=\"dataframe\">\n",
       "  <thead>\n",
       "    <tr style=\"text-align: right;\">\n",
       "      <th></th>\n",
       "      <th>CRIME COUNT</th>\n",
       "    </tr>\n",
       "    <tr>\n",
       "      <th>YEAR</th>\n",
       "      <th></th>\n",
       "    </tr>\n",
       "  </thead>\n",
       "  <tbody>\n",
       "    <tr>\n",
       "      <th>2014</th>\n",
       "      <td>32664</td>\n",
       "    </tr>\n",
       "    <tr>\n",
       "      <th>2015</th>\n",
       "      <td>34344</td>\n",
       "    </tr>\n",
       "    <tr>\n",
       "      <th>2016</th>\n",
       "      <td>37827</td>\n",
       "    </tr>\n",
       "    <tr>\n",
       "      <th>2017</th>\n",
       "      <td>36976</td>\n",
       "    </tr>\n",
       "    <tr>\n",
       "      <th>2018</th>\n",
       "      <td>38045</td>\n",
       "    </tr>\n",
       "  </tbody>\n",
       "</table>\n",
       "</div>"
      ],
      "text/plain": [
       "      CRIME COUNT\n",
       "YEAR             \n",
       "2014        32664\n",
       "2015        34344\n",
       "2016        37827\n",
       "2017        36976\n",
       "2018        38045"
      ]
     },
     "execution_count": 8,
     "metadata": {},
     "output_type": "execute_result"
    }
   ],
   "source": [
    "year_count = new_van_data[['YEAR','TYPE']].groupby ('YEAR').count()\n",
    "year_count = year_count.rename(columns={\"TYPE\":\"CRIME COUNT\"})\n",
    "year_count"
   ]
  },
  {
   "cell_type": "code",
   "execution_count": 9,
   "metadata": {},
   "outputs": [
    {
     "data": {
      "image/png": "[encoded data removed]",
      "text/plain": [
       "<matplotlib.figure.Figure at 0x10abaea90>"
      ]
     },
     "metadata": {},
     "output_type": "display_data"
    }
   ],
   "source": [
    "crime_count_yr = year_count.plot(kind='bar',color='lightblue',label=\"Total crime of the year\")\n",
    "\n",
    "crime_count_yr.set_xlabel(\"Year\")\n",
    "crime_count_yr.set_ylabel(\"Number of Crime\")\n",
    "plt.title(\"Total crime of the year\")\n",
    "\n",
    "plt.legend(loc='best', bbox_to_anchor=(1, 0.5))\n",
    "plt.savefig(\"Images/crime_count_yr.jpg\",bbox_inches = \"tight\")\n",
    "plt.show()"
   ]
  },
  {
   "cell_type": "code",
   "execution_count": 10,
   "metadata": {
    "colab": {},
    "colab_type": "code",
    "id": "IbqNhABiqJWJ"
   },
   "outputs": [
    {
     "data": {
      "text/html": [
       "<div>\n",
       "<style scoped>\n",
       "    .dataframe tbody tr th:only-of-type {\n",
       "        vertical-align: middle;\n",
       "    }\n",
       "\n",
       "    .dataframe tbody tr th {\n",
       "        vertical-align: top;\n",
       "    }\n",
       "\n",
       "    .dataframe thead th {\n",
       "        text-align: right;\n",
       "    }\n",
       "</style>\n",
       "<table border=\"1\" class=\"dataframe\">\n",
       "  <thead>\n",
       "    <tr style=\"text-align: right;\">\n",
       "      <th></th>\n",
       "      <th>AVERAGE CRIME COUNT</th>\n",
       "    </tr>\n",
       "    <tr>\n",
       "      <th>MONTH</th>\n",
       "      <th></th>\n",
       "    </tr>\n",
       "  </thead>\n",
       "  <tbody>\n",
       "    <tr>\n",
       "      <th>1</th>\n",
       "      <td>2891.6</td>\n",
       "    </tr>\n",
       "    <tr>\n",
       "      <th>2</th>\n",
       "      <td>2496.4</td>\n",
       "    </tr>\n",
       "    <tr>\n",
       "      <th>3</th>\n",
       "      <td>2844.8</td>\n",
       "    </tr>\n",
       "    <tr>\n",
       "      <th>4</th>\n",
       "      <td>2831.4</td>\n",
       "    </tr>\n",
       "    <tr>\n",
       "      <th>5</th>\n",
       "      <td>3058.6</td>\n",
       "    </tr>\n",
       "    <tr>\n",
       "      <th>6</th>\n",
       "      <td>3050.2</td>\n",
       "    </tr>\n",
       "    <tr>\n",
       "      <th>7</th>\n",
       "      <td>3241.8</td>\n",
       "    </tr>\n",
       "    <tr>\n",
       "      <th>8</th>\n",
       "      <td>3237.0</td>\n",
       "    </tr>\n",
       "    <tr>\n",
       "      <th>9</th>\n",
       "      <td>3110.8</td>\n",
       "    </tr>\n",
       "    <tr>\n",
       "      <th>10</th>\n",
       "      <td>3171.6</td>\n",
       "    </tr>\n",
       "    <tr>\n",
       "      <th>11</th>\n",
       "      <td>3081.8</td>\n",
       "    </tr>\n",
       "    <tr>\n",
       "      <th>12</th>\n",
       "      <td>2955.2</td>\n",
       "    </tr>\n",
       "  </tbody>\n",
       "</table>\n",
       "</div>"
      ],
      "text/plain": [
       "       AVERAGE CRIME COUNT\n",
       "MONTH                     \n",
       "1                   2891.6\n",
       "2                   2496.4\n",
       "3                   2844.8\n",
       "4                   2831.4\n",
       "5                   3058.6\n",
       "6                   3050.2\n",
       "7                   3241.8\n",
       "8                   3237.0\n",
       "9                   3110.8\n",
       "10                  3171.6\n",
       "11                  3081.8\n",
       "12                  2955.2"
      ]
     },
     "execution_count": 10,
     "metadata": {},
     "output_type": "execute_result"
    }
   ],
   "source": [
    "month_mean = new_van_data[['TYPE','YEAR','MONTH']].groupby(['MONTH','YEAR']).count()\n",
    "month_mean = month_mean['TYPE'].groupby(['MONTH']).mean()\n",
    "month_mean = pd.DataFrame(month_mean)\n",
    "month_mean = month_mean.rename(columns={\"TYPE\":\"AVERAGE CRIME COUNT\"})\n",
    "month_mean"
   ]
  },
  {
   "cell_type": "code",
   "execution_count": 11,
   "metadata": {},
   "outputs": [
    {
     "data": {
      "image/png": "[encoded data removed]",
      "text/plain": [
       "<matplotlib.figure.Figure at 0x10ae33ac8>"
      ]
     },
     "metadata": {},
     "output_type": "display_data"
    }
   ],
   "source": [
    "crime_month_avg = month_mean.plot(kind='line',color='coral',label=\"Average crime of each month\")\n",
    "\n",
    "crime_month_avg.set_xlabel(\"Month\")\n",
    "crime_month_avg.set_ylabel(\"Average number of Crime\")\n",
    "plt.title(\"Average crime of each month\")\n",
    "\n",
    "plt.legend(loc='best', bbox_to_anchor=(1, 0.5))\n",
    "plt.savefig(\"Images/crime_month_avg.jpg\",bbox_inches = \"tight\")\n",
    "plt.show()"
   ]
  },
  {
   "cell_type": "code",
   "execution_count": 12,
   "metadata": {
    "colab": {},
    "colab_type": "code",
    "id": "4y2XO98YspdI"
   },
   "outputs": [
    {
     "data": {
      "text/html": [
       "<div>\n",
       "<style scoped>\n",
       "    .dataframe tbody tr th:only-of-type {\n",
       "        vertical-align: middle;\n",
       "    }\n",
       "\n",
       "    .dataframe tbody tr th {\n",
       "        vertical-align: top;\n",
       "    }\n",
       "\n",
       "    .dataframe thead th {\n",
       "        text-align: right;\n",
       "    }\n",
       "</style>\n",
       "<table border=\"1\" class=\"dataframe\">\n",
       "  <thead>\n",
       "    <tr style=\"text-align: right;\">\n",
       "      <th></th>\n",
       "      <th>COUNT</th>\n",
       "    </tr>\n",
       "    <tr>\n",
       "      <th>TIME</th>\n",
       "      <th></th>\n",
       "    </tr>\n",
       "  </thead>\n",
       "  <tbody>\n",
       "    <tr>\n",
       "      <th>DAY</th>\n",
       "      <td>80613</td>\n",
       "    </tr>\n",
       "    <tr>\n",
       "      <th>NIGHT</th>\n",
       "      <td>83270</td>\n",
       "    </tr>\n",
       "  </tbody>\n",
       "</table>\n",
       "</div>"
      ],
      "text/plain": [
       "       COUNT\n",
       "TIME        \n",
       "DAY    80613\n",
       "NIGHT  83270"
      ]
     },
     "execution_count": 12,
     "metadata": {},
     "output_type": "execute_result"
    }
   ],
   "source": [
    "day_night = new_van_data[['TYPE','TIME']].groupby(['TIME']).count()\n",
    "day_night = day_night.rename(columns={\"TYPE\":\"COUNT\"})\n",
    "day_night"
   ]
  },
  {
   "cell_type": "code",
   "execution_count": 13,
   "metadata": {},
   "outputs": [
    {
     "data": {
      "image/png": "[encoded data removed]",
      "text/plain": [
       "<matplotlib.figure.Figure at 0x104e262e8>"
      ]
     },
     "metadata": {},
     "output_type": "display_data"
    }
   ],
   "source": [
    "labels = 'Day', 'Night'\n",
    "sizes = [80613,83270]\n",
    "colors=['coral','yellow']\n",
    "\n",
    "plt.pie(sizes, labels=labels, colors=colors,\n",
    "        autopct=\"%1.1f%%\", shadow=True, startangle=140)\n",
    "\n",
    "plt.axis(\"equal\")\n",
    "\n",
    "plt.savefig(\"Images/day_night.png\")\n",
    "plt.show()"
   ]
  },
  {
   "cell_type": "code",
   "execution_count": 14,
   "metadata": {
    "colab": {},
    "colab_type": "code",
    "id": "Ea33feqofV8C",
    "scrolled": true
   },
   "outputs": [
    {
     "data": {
      "text/html": [
       "<div>\n",
       "<style scoped>\n",
       "    .dataframe tbody tr th:only-of-type {\n",
       "        vertical-align: middle;\n",
       "    }\n",
       "\n",
       "    .dataframe tbody tr th {\n",
       "        vertical-align: top;\n",
       "    }\n",
       "\n",
       "    .dataframe thead th {\n",
       "        text-align: right;\n",
       "    }\n",
       "</style>\n",
       "<table border=\"1\" class=\"dataframe\">\n",
       "  <thead>\n",
       "    <tr style=\"text-align: right;\">\n",
       "      <th></th>\n",
       "      <th>COUNT</th>\n",
       "    </tr>\n",
       "  </thead>\n",
       "  <tbody>\n",
       "    <tr>\n",
       "      <th>Other Theft</th>\n",
       "      <td>99008</td>\n",
       "    </tr>\n",
       "    <tr>\n",
       "      <th>Assault</th>\n",
       "      <td>40350</td>\n",
       "    </tr>\n",
       "    <tr>\n",
       "      <th>Break and Enter</th>\n",
       "      <td>25629</td>\n",
       "    </tr>\n",
       "    <tr>\n",
       "      <th>Traffic</th>\n",
       "      <td>8013</td>\n",
       "    </tr>\n",
       "    <tr>\n",
       "      <th>Auto Theft</th>\n",
       "      <td>6789</td>\n",
       "    </tr>\n",
       "    <tr>\n",
       "      <th>Homicide</th>\n",
       "      <td>67</td>\n",
       "    </tr>\n",
       "  </tbody>\n",
       "</table>\n",
       "</div>"
      ],
      "text/plain": [
       "                 COUNT\n",
       "Other Theft      99008\n",
       "Assault          40350\n",
       "Break and Enter  25629\n",
       "Traffic           8013\n",
       "Auto Theft        6789\n",
       "Homicide            67"
      ]
     },
     "execution_count": 14,
     "metadata": {},
     "output_type": "execute_result"
    }
   ],
   "source": [
    "type_count = new_van_data['TYPE'].value_counts()\n",
    "type_count = pd.DataFrame(type_count)\n",
    "type_count = type_count.rename(columns={\"TYPE\":\"COUNT\"})\n",
    "type_count"
   ]
  },
  {
   "cell_type": "code",
   "execution_count": 15,
   "metadata": {},
   "outputs": [
    {
     "data": {
      "image/png": "[encoded data removed]",
      "text/plain": [
       "<matplotlib.figure.Figure at 0x10af0b358>"
      ]
     },
     "metadata": {},
     "output_type": "display_data"
    }
   ],
   "source": [
    "labels = 'Other Theft', 'Assault','Break and Enter','Traffic','Auto Theft','Homicide'\n",
    "sizes = [99008,40350,25629,8013,6789,67]\n",
    "colors=['coral','yellow','lightblue','gold','green','pink']\n",
    "\n",
    "plt.pie(sizes, labels=labels, colors=colors,\n",
    "        autopct=\"%1.1f%%\", shadow=True, startangle=140)\n",
    "\n",
    "plt.axis(\"equal\")\n",
    "\n",
    "plt.savefig(\"Images/type_count_pie.png\")\n",
    "plt.show()"
   ]
  },
  {
   "cell_type": "code",
   "execution_count": 16,
   "metadata": {},
   "outputs": [
    {
     "data": {
      "text/html": [
       "<div>\n",
       "<style scoped>\n",
       "    .dataframe tbody tr th:only-of-type {\n",
       "        vertical-align: middle;\n",
       "    }\n",
       "\n",
       "    .dataframe tbody tr th {\n",
       "        vertical-align: top;\n",
       "    }\n",
       "\n",
       "    .dataframe thead th {\n",
       "        text-align: right;\n",
       "    }\n",
       "</style>\n",
       "<table border=\"1\" class=\"dataframe\">\n",
       "  <thead>\n",
       "    <tr style=\"text-align: right;\">\n",
       "      <th></th>\n",
       "      <th>id</th>\n",
       "      <th>type</th>\n",
       "      <th>year</th>\n",
       "      <th>month</th>\n",
       "      <th>time</th>\n",
       "    </tr>\n",
       "  </thead>\n",
       "  <tbody>\n",
       "    <tr>\n",
       "      <th>0</th>\n",
       "      <td>1</td>\n",
       "      <td>Assault</td>\n",
       "      <td>2014</td>\n",
       "      <td>11</td>\n",
       "      <td>NIGHT</td>\n",
       "    </tr>\n",
       "    <tr>\n",
       "      <th>1</th>\n",
       "      <td>2</td>\n",
       "      <td>Assault</td>\n",
       "      <td>2014</td>\n",
       "      <td>10</td>\n",
       "      <td>NIGHT</td>\n",
       "    </tr>\n",
       "    <tr>\n",
       "      <th>2</th>\n",
       "      <td>3</td>\n",
       "      <td>Other Theft</td>\n",
       "      <td>2014</td>\n",
       "      <td>3</td>\n",
       "      <td>DAY</td>\n",
       "    </tr>\n",
       "    <tr>\n",
       "      <th>3</th>\n",
       "      <td>4</td>\n",
       "      <td>Break and Enter</td>\n",
       "      <td>2014</td>\n",
       "      <td>4</td>\n",
       "      <td>DAY</td>\n",
       "    </tr>\n",
       "    <tr>\n",
       "      <th>4</th>\n",
       "      <td>5</td>\n",
       "      <td>Assault</td>\n",
       "      <td>2014</td>\n",
       "      <td>12</td>\n",
       "      <td>NIGHT</td>\n",
       "    </tr>\n",
       "  </tbody>\n",
       "</table>\n",
       "</div>"
      ],
      "text/plain": [
       "   id             type  year  month   time\n",
       "0   1          Assault  2014     11  NIGHT\n",
       "1   2          Assault  2014     10  NIGHT\n",
       "2   3      Other Theft  2014      3    DAY\n",
       "3   4  Break and Enter  2014      4    DAY\n",
       "4   5          Assault  2014     12  NIGHT"
      ]
     },
     "execution_count": 16,
     "metadata": {},
     "output_type": "execute_result"
    }
   ],
   "source": [
    "new_van_data = new_van_data[['TYPE', 'YEAR', 'MONTH','TIME']].copy()\n",
    "new_van_data['ID'] = np.arange(len(new_van_data))+1\n",
    "new_van_data = new_van_data[['ID','TYPE', 'YEAR', 'MONTH','TIME']].copy()\n",
    "new_van_data = new_van_data.rename(columns={'ID': 'id','TYPE':'type', 'YEAR':'year', 'MONTH':'month','TIME':'time'})\n",
    "new_van_data.head()"
   ]
  },
  {
   "cell_type": "code",
   "execution_count": 32,
   "metadata": {
    "colab": {},
    "colab_type": "code",
    "id": "cmUgXctidKJt"
   },
   "outputs": [],
   "source": [
    "rds_connection_string = \"postgres:{pw}@localhost:5432/crime_db\"\n",
    "engine = create_engine(f'postgresql://{rds_connection_string}')"
   ]
  },
  {
   "cell_type": "code",
   "execution_count": 27,
   "metadata": {
    "colab": {
     "base_uri": "https://localhost:8080/",
     "height": 639
    },
    "colab_type": "code",
    "id": "6z2Ddf4S4NeV",
    "outputId": "f8d82332-2e30-4937-9487-9f5e546bdc71"
   },
   "outputs": [
    {
     "data": {
      "text/plain": [
       "['vancouver_crime']"
      ]
     },
     "execution_count": 27,
     "metadata": {},
     "output_type": "execute_result"
    }
   ],
   "source": [
    "engine.table_names()"
   ]
  },
  {
   "cell_type": "code",
   "execution_count": 28,
   "metadata": {},
   "outputs": [],
   "source": [
    "new_van_data.to_sql(name='vancouver_crime', con=engine, if_exists='append', index=False)"
   ]
  },
  {
   "cell_type": "code",
   "execution_count": 29,
   "metadata": {},
   "outputs": [
    {
     "data": {
      "text/html": [
       "<div>\n",
       "<style scoped>\n",
       "    .dataframe tbody tr th:only-of-type {\n",
       "        vertical-align: middle;\n",
       "    }\n",
       "\n",
       "    .dataframe tbody tr th {\n",
       "        vertical-align: top;\n",
       "    }\n",
       "\n",
       "    .dataframe thead th {\n",
       "        text-align: right;\n",
       "    }\n",
       "</style>\n",
       "<table border=\"1\" class=\"dataframe\">\n",
       "  <thead>\n",
       "    <tr style=\"text-align: right;\">\n",
       "      <th></th>\n",
       "      <th>id</th>\n",
       "      <th>type</th>\n",
       "      <th>year</th>\n",
       "      <th>month</th>\n",
       "      <th>time</th>\n",
       "    </tr>\n",
       "  </thead>\n",
       "  <tbody>\n",
       "    <tr>\n",
       "      <th>0</th>\n",
       "      <td>1</td>\n",
       "      <td>Assault</td>\n",
       "      <td>2014</td>\n",
       "      <td>11</td>\n",
       "      <td>NIGHT</td>\n",
       "    </tr>\n",
       "    <tr>\n",
       "      <th>1</th>\n",
       "      <td>2</td>\n",
       "      <td>Assault</td>\n",
       "      <td>2014</td>\n",
       "      <td>10</td>\n",
       "      <td>NIGHT</td>\n",
       "    </tr>\n",
       "    <tr>\n",
       "      <th>2</th>\n",
       "      <td>3</td>\n",
       "      <td>Other Theft</td>\n",
       "      <td>2014</td>\n",
       "      <td>3</td>\n",
       "      <td>DAY</td>\n",
       "    </tr>\n",
       "    <tr>\n",
       "      <th>3</th>\n",
       "      <td>4</td>\n",
       "      <td>Break and Enter</td>\n",
       "      <td>2014</td>\n",
       "      <td>4</td>\n",
       "      <td>DAY</td>\n",
       "    </tr>\n",
       "    <tr>\n",
       "      <th>4</th>\n",
       "      <td>5</td>\n",
       "      <td>Assault</td>\n",
       "      <td>2014</td>\n",
       "      <td>12</td>\n",
       "      <td>NIGHT</td>\n",
       "    </tr>\n",
       "  </tbody>\n",
       "</table>\n",
       "</div>"
      ],
      "text/plain": [
       "   id             type  year  month   time\n",
       "0   1          Assault  2014     11  NIGHT\n",
       "1   2          Assault  2014     10  NIGHT\n",
       "2   3      Other Theft  2014      3    DAY\n",
       "3   4  Break and Enter  2014      4    DAY\n",
       "4   5          Assault  2014     12  NIGHT"
      ]
     },
     "execution_count": 29,
     "metadata": {},
     "output_type": "execute_result"
    }
   ],
   "source": [
    "pd.read_sql_query('select * from vancouver_crime', con=engine).head()"
   ]
  },
  {
   "cell_type": "code",
   "execution_count": null,
   "metadata": {},
   "outputs": [],
   "source": []
  }
 ],
 "metadata": {
  "colab": {
   "collapsed_sections": [],
   "name": "Vancouver.ipynb",
   "provenance": [],
   "version": "0.3.2"
  },
  "kernelspec": {
   "display_name": "Python 3",
   "language": "python",
   "name": "python3"
  },
  "language_info": {
   "codemirror_mode": {
    "name": "ipython",
    "version": 3
   },
   "file_extension": ".py",
   "mimetype": "text/x-python",
   "name": "python",
   "nbconvert_exporter": "python",
   "pygments_lexer": "ipython3",
   "version": "3.6.4"
  }
 },
 "nbformat": 4,
 "nbformat_minor": 1
}
